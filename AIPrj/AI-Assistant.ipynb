{
 "cells": [
  {
   "cell_type": "code",
   "execution_count": 1,
   "id": "9da4f527-30ab-4568-9dec-b52ca56e9750",
   "metadata": {},
   "outputs": [],
   "source": [
    "import streamlit as st \n",
    "from PyPDF2 import PdfReader\n",
    "from langchain.embeddings import OpenAIEmbeddings, SentenceTransformerEmbeddings\n",
    "from langchain.chat_models import ChatOpenAI\n",
    "from langchain.chains import ConversationalRetrievalChain, RetrievalQA\n",
    "from langchain.memory import ConversationBufferWindowMemory\n",
    "from langchain.vectorstores import FAISS\n",
    "from langchain.document_loaders import PyPDFLoader\n",
    "from langchain.text_splitter import RecursiveCharacterTextSplitter\n",
    "import gdown"
   ]
  },
  {
   "cell_type": "code",
   "execution_count": 2,
   "id": "b8137fc3-b0fe-4e30-a4b1-3fb06971c5ee",
   "metadata": {},
   "outputs": [
    {
     "name": "stdout",
     "output_type": "stream",
     "text": [
      "파일 ID: 1IwTNc1C_Twmot9HofNVs_boknDoUfmI1njXNb6fjSLs\n"
     ]
    }
   ],
   "source": [
    "# 필요한 라이브러리 import\n",
    "from googleapiclient.discovery import build\n",
    "from google.oauth2 import service_account\n",
    "\n",
    "# 기본 정보 입력 및 API 열기\n",
    "creds_file_path = 'aiassistant-423712-eb47cff228a1.json'  # 올바른 서비스 계정 JSON 파일 경로 입력\n",
    "\n",
    "# 파일에서 자격 증명 불러오기\n",
    "credentials = service_account.Credentials.from_service_account_file(\n",
    "    creds_file_path, scopes=['https://www.googleapis.com/auth/drive.readonly', 'https://www.googleapis.com/auth/documents.readonly'])\n",
    "\n",
    "# 서비스 객체 생성\n",
    "drive_service = build('drive', 'v3', credentials=credentials)\n",
    "docs_service = build('docs', 'v1', credentials=credentials)\n",
    "\n",
    "# 폴더 ID 및 파일 이름 설정\n",
    "folder_id = \"1OrIj8JXzMd-VMH2QkdH8Gm55-VXyyoUh\"  # 폴더 ID 입력\n",
    "file_name = \"회의록\"  # 다운로드하려는 파일 이름 입력\n",
    "\n",
    "# 폴더 내의 파일 검색\n",
    "query = f\"'{folder_id}' in parents and name = '{file_name}'\"\n",
    "results = drive_service.files().list(q=query, pageSize=10, fields=\"files(id, name)\").execute()\n",
    "items = results.get('files', [])\n",
    "\n",
    "if not items:\n",
    "    print('해당 이름의 파일을 찾을 수 없습니다.')\n",
    "else:\n",
    "    file_id = items[0]['id']\n",
    "    print(f\"파일 ID: {file_id}\")\n",
    "\n",
    "    # Google Docs 파일 내용 가져오기\n",
    "    document = docs_service.documents().get(documentId=file_id).execute()\n",
    "\n",
    "    # 문서 내용 추출\n",
    "    content = document.get('body').get('content')\n",
    "\n",
    "    # 텍스트 추출 함수\n",
    "    def extract_text(elements):\n",
    "        text = ''\n",
    "        for element in elements:\n",
    "            if 'paragraph' in element:\n",
    "                for elem in element.get('paragraph').get('elements'):\n",
    "                    if 'textRun' in elem:\n",
    "                        text += elem.get('textRun').get('content')\n",
    "            elif 'table' in element:\n",
    "                for row in element.get('table').get('tableRows'):\n",
    "                    for cell in row.get('tableCells'):\n",
    "                        text += extract_text(cell.get('content'))\n",
    "            elif 'tableOfContents' in element:\n",
    "                text += extract_text(element.get('tableOfContents').get('content'))\n",
    "        return text\n",
    "\n",
    "    # 텍스트 내용 출력\n",
    "    doc_text = extract_text(content)\n"
   ]
  },
  {
   "cell_type": "code",
   "execution_count": 3,
   "id": "b466fde2-da17-4d51-82e9-67ab83198221",
   "metadata": {},
   "outputs": [],
   "source": [
    "# PDF에서 텍스트를 가져온다\n",
    "# def get_pdf_text(pdf_path):\n",
    "#     google_path = 'https://drive.google.com/uc?id='\n",
    "#     file_id = '1dfTqnaO0zcPdiUjP0490S6UEgFn4hqfE-Jo9We7DDmw/edit?usp=drive_link'\n",
    "#     output_name = 'test.text'\n",
    "#     gdown.download(google_path+file_id,output_name,quiet=False)\n",
    "#     text = \"\"\n",
    "#     pdf_reader = PdfReader(pdf_path)\n",
    "#     for page in pdf_reader.pages:\n",
    "#         text += page.extract_text()\n",
    "#     return text\n",
    "\n",
    "#지정된 조건에 따라 주어진 텍스트를 더 작은 덩어리로 분할\n",
    "def get_text_chunks(text):\n",
    "    text_splitter = RecursiveCharacterTextSplitter(\n",
    "        separators=\"\\\\n\",\n",
    "        chunk_size=1000,\n",
    "        chunk_overlap=200,\n",
    "        length_function=len\n",
    "    )\n",
    "    chunks = text_splitter.split_text(text)\n",
    "    return chunks\n",
    "\n",
    "#주어진 텍스트 청크에 대한 임베딩을 생성하고 FAISS를 사용하여 벡터 저장소를 생성\n",
    "def get_vectorstore(text_chunks):\n",
    "    embeddings = SentenceTransformerEmbeddings(model_name='all-MiniLM-L6-v2')\n",
    "    vectorstore = FAISS.from_texts(texts=text_chunks, embedding=embeddings)\n",
    "    return vectorstore"
   ]
  },
  {
   "cell_type": "code",
   "execution_count": 6,
   "id": "2d9db575-df32-439d-84f9-1e40e3e23bc5",
   "metadata": {},
   "outputs": [],
   "source": [
    "import os\n",
    "os.environ[\"OPENAI_API_KEY\"] = \"\"\n",
    "\n",
    "#주어진 벡터 저장소로 대화 체인을 초기화\n",
    "def get_conversation_chain(vectorstore):\n",
    "    memory = ConversationBufferWindowMemory(memory_key='chat_history', return_message=True)  #ConversationBufferWindowMemory에 이전 대화 저장\n",
    "    conversation_chain = ConversationalRetrievalChain.from_llm(\n",
    "        llm=ChatOpenAI(temperature=0.7, model_name='gpt-3.5-turbo-16k-0613'),\n",
    "        retriever=vectorstore.as_retriever(),\n",
    "        get_chat_history=lambda h: h,\n",
    "        memory=memory\n",
    "    ) #ConversationalRetrievalChain을 통해 langchain 챗봇에 쿼리 전송\n",
    "    return conversation_chain"
   ]
  },
  {
   "cell_type": "code",
   "execution_count": 7,
   "id": "c4e8de0f-5b9f-4f5c-b11d-7ed5f13b9561",
   "metadata": {
    "scrolled": true
   },
   "outputs": [
    {
     "name": "stderr",
     "output_type": "stream",
     "text": [
      "C:\\Anaconda3\\envs\\llm\\lib\\site-packages\\huggingface_hub\\file_download.py:1132: FutureWarning: `resume_download` is deprecated and will be removed in version 1.0.0. Downloads always resume when possible. If you want to force a new download, use `force_download=True`.\n",
      "  warnings.warn(\n"
     ]
    }
   ],
   "source": [
    "# PDF 파일 경로 설정\n",
    "# pdf_path = \"The_Adventures_of_Tom_Sawyer.pdf\"\n",
    "# PDF 텍스트 가져오기\n",
    "# raw_text = get_pdf_text(pdf_path)\n",
    "# 텍스트에서 청크 검색\n",
    "text_chunks = get_text_chunks(doc_text)\n",
    "# PDF 텍스트 저장을 위해 FAISS 벡터 저장소 만들기\n",
    "vectorstore = get_vectorstore(text_chunks)\n",
    "# 대화 체인 만들기\n",
    "m = get_conversation_chain(vectorstore)"
   ]
  },
  {
   "cell_type": "code",
   "execution_count": 8,
   "id": "e2f00412-1e5d-4b77-83ee-e6852b7db9ac",
   "metadata": {},
   "outputs": [
    {
     "name": "stdout",
     "output_type": "stream",
     "text": [
      "질문을 해주세요.\n",
      "음성을 이해할 수 없습니다.\n",
      "질문을 해주세요.\n",
      "사용자: 몇 초에 뭐 했는지 하나하나 설명해 줘\n"
     ]
    },
    {
     "name": "stderr",
     "output_type": "stream",
     "text": [
      "C:\\Anaconda3\\envs\\llm\\lib\\site-packages\\langchain_core\\_api\\deprecation.py:119: LangChainDeprecationWarning: The method `Chain.__call__` was deprecated in langchain 0.1.0 and will be removed in 0.3.0. Use invoke instead.\n",
      "  warn_deprecated(\n"
     ]
    },
    {
     "name": "stdout",
     "output_type": "stream",
     "text": [
      "[00:00] Raphael Allstadt: 안녕하세요 여러분. 빠른 개인 정보 보호 및 보안 세션 미팅에 오신 것을 환영합니다.\n",
      "[00:06] Carlo Thissen: 안녕하세요, 저는 tl;dv의 CEO인 Carlo Thissen입니다.\n",
      "[00:11] Allan Bettarel: 소개해 주셔서 감사합니다. 시작해 봅시다!\n",
      "\n",
      "위의 컨텍스트에 따르면, [00:00]에서 Raphael Allstadt는 참석자들을 환영하고 개인 정보 보호 및 보안 세션 미팅을 시작했습니다. [00:06]에서 Carlo Thissen은 자신의 신분을 소개했고, [00:11]에서 Allan Bettarel은 미팅을 시작하자고 말했습니다. 따라서, [00:00], [00:06], [00:11]에서 각각의 참석자들이 한 행동을 설명해주었습니다.\n"
     ]
    },
    {
     "name": "stderr",
     "output_type": "stream",
     "text": [
      "Exception ignored in: <function BSTR.__del__ at 0x00000217D56B5EE0>\n",
      "Traceback (most recent call last):\n",
      "  File \"C:\\Anaconda3\\envs\\llm\\lib\\site-packages\\comtypes\\__init__.py\", line 683, in __del__\n",
      "    def __del__(self, _free=windll.oleaut32.SysFreeString):\n",
      "KeyboardInterrupt: \n"
     ]
    },
    {
     "name": "stdout",
     "output_type": "stream",
     "text": [
      "질문을 해주세요.\n",
      "사용자: 내가 몇 초에 뭐 했고 몇 초에 뭐 했고 며칠 뭐 했는지 하나하나 다 설명해 달라고 했어\n",
      "Raphael Allstadt는 0초에 인사를 하였습니다.\n",
      "질문을 해주세요.\n",
      "사용자: 멈춰\n"
     ]
    }
   ],
   "source": [
    "import speech_recognition as sr\n",
    "import pyttsx3\n",
    "\n",
    "# 음성 입력 (STT)\n",
    "def recognize_speech():\n",
    "    recognizer = sr.Recognizer()\n",
    "    with sr.Microphone() as source:\n",
    "        print(\"질문을 해주세요.\")\n",
    "        audio = recognizer.listen(source)\n",
    "    try:\n",
    "        question = recognizer.recognize_google(audio, language=\"ko-KR\")\n",
    "        print(\"사용자:\", question)\n",
    "        return question\n",
    "    except sr.UnknownValueError:\n",
    "        print(\"음성을 이해할 수 없습니다.\")\n",
    "        return \"\"\n",
    "    except sr.RequestError:\n",
    "        print(\"음성 서비스에 접근할 수 없습니다.\")\n",
    "        return \"\"\n",
    "\n",
    "# 음성 출력 (TTS)\n",
    "def speak_response(response):\n",
    "    engine = pyttsx3.init()  # 기본 드라이버로 초기화\n",
    "    engine.say(response)\n",
    "    engine.runAndWait()\n",
    "\n",
    "# 질문 처리 및 답변 생성\n",
    "def process_question(question):\n",
    "    # 질문에 대한 답변 가져오기\n",
    "    response = m({\"question\": question})\n",
    "    if 'answer' in response:\n",
    "        answer = response['answer']\n",
    "    else:\n",
    "        print(\"올바른 응답 키를 찾을 수 없습니다.\")\n",
    "    return answer\n",
    "\n",
    "if __name__ == \"__main__\":\n",
    "    while True:\n",
    "        question = recognize_speech()\n",
    "        if question==\"멈춰\":\n",
    "            break;\n",
    "        if question:\n",
    "            answer = process_question(question)\n",
    "            print(answer)\n",
    "            speak_response(answer)\n"
   ]
  },
  {
   "cell_type": "code",
   "execution_count": null,
   "id": "f4ce17ba-1a6e-497a-ae91-4e04e8661b0a",
   "metadata": {},
   "outputs": [],
   "source": []
  }
 ],
 "metadata": {
  "kernelspec": {
   "display_name": "llm",
   "language": "python",
   "name": "llm"
  },
  "language_info": {
   "codemirror_mode": {
    "name": "ipython",
    "version": 3
   },
   "file_extension": ".py",
   "mimetype": "text/x-python",
   "name": "python",
   "nbconvert_exporter": "python",
   "pygments_lexer": "ipython3",
   "version": "3.8.19"
  }
 },
 "nbformat": 4,
 "nbformat_minor": 5
}
